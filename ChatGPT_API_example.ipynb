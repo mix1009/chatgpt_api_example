{
 "cells": [
  {
   "cell_type": "code",
   "execution_count": null,
   "id": "8e083961",
   "metadata": {
    "ExecuteTime": {
     "end_time": "2023-03-02T12:46:53.143157Z",
     "start_time": "2023-03-02T12:46:48.446716Z"
    }
   },
   "outputs": [],
   "source": [
    "!pip install openai\n",
    "!pip install gradio"
   ]
  },
  {
   "cell_type": "code",
   "execution_count": null,
   "id": "52406726",
   "metadata": {
    "ExecuteTime": {
     "end_time": "2023-03-03T02:38:41.102210Z",
     "start_time": "2023-03-03T02:38:41.087531Z"
    }
   },
   "outputs": [],
   "source": [
    "import openai\n",
    "\n",
    "OPENAI_API_KEY = \"\"\n",
    "if not OPENAI_API_KEY:\n",
    "    print(\"NEED OPENAI API Key from https://platform.openai.com/account/api-keys\")\n",
    "openai.api_key = OPENAI_API_KEY"
   ]
  },
  {
   "cell_type": "code",
   "execution_count": null,
   "id": "92ac1c63",
   "metadata": {
    "ExecuteTime": {
     "end_time": "2023-03-03T02:38:24.332229Z",
     "start_time": "2023-03-03T02:38:23.709345Z"
    }
   },
   "outputs": [],
   "source": [
    "# OPENAI Example\n",
    "\n",
    "openai.ChatCompletion.create(\n",
    "  model=\"gpt-3.5-turbo\",\n",
    "  messages=[\n",
    "        {\"role\": \"system\", \"content\": \"You are a helpful assistant.\"},\n",
    "        {\"role\": \"user\", \"content\": \"Who won the world series in 2020?\"},\n",
    "        {\"role\": \"assistant\", \"content\": \"The Los Angeles Dodgers won the World Series in 2020.\"},\n",
    "        {\"role\": \"user\", \"content\": \"Where was it played?\"}\n",
    "    ]\n",
    ")"
   ]
  },
  {
   "cell_type": "code",
   "execution_count": null,
   "id": "b08f5779",
   "metadata": {
    "ExecuteTime": {
     "end_time": "2023-03-02T13:49:14.836099Z",
     "start_time": "2023-03-02T13:49:14.088895Z"
    },
    "scrolled": false
   },
   "outputs": [],
   "source": [
    "# OPENAI stream example\n",
    "\n",
    "r = openai.ChatCompletion.create(\n",
    "  model=\"gpt-3.5-turbo\",\n",
    "  messages=[\n",
    "        {\"role\": \"system\", \"content\": \"You are a helpful assistant.\"},\n",
    "        {\"role\": \"user\", \"content\": \"Who won the world series in 2020?\"},\n",
    "    ],\n",
    "    stream=True\n",
    ")\n",
    "\n",
    "for chunk in r:\n",
    "    print(chunk)"
   ]
  },
  {
   "cell_type": "code",
   "execution_count": null,
   "id": "c4ea99de",
   "metadata": {
    "ExecuteTime": {
     "end_time": "2023-03-02T12:56:05.421738Z",
     "start_time": "2023-03-02T12:56:04.473272Z"
    }
   },
   "outputs": [],
   "source": [
    "# python method for one time query (display markdown output)\n",
    "\n",
    "from IPython.display import Markdown\n",
    "\n",
    "def chat_query(query, print_response=True):\n",
    "    resp = openai.ChatCompletion.create(\n",
    "      model=\"gpt-3.5-turbo\",\n",
    "      messages=[\n",
    "            {\"role\": \"system\", \"content\": \"You are a helpful assistant.\"},\n",
    "            {\"role\": \"user\", \"content\": query},\n",
    "        ]\n",
    "    )\n",
    "    \n",
    "    if print_response:\n",
    "        display(Markdown(r['choices'][0]['message']['content']))\n",
    "    return resp\n",
    "\n",
    "r = chat_query('write a python method to add 1 to 100')"
   ]
  },
  {
   "cell_type": "code",
   "execution_count": null,
   "id": "88e7272c",
   "metadata": {
    "ExecuteTime": {
     "end_time": "2023-03-02T13:44:41.723676Z",
     "start_time": "2023-03-02T13:44:41.709511Z"
    }
   },
   "outputs": [],
   "source": [
    "# Wrapper class\n",
    "\n",
    "from IPython.display import Markdown, HTML\n",
    "import time\n",
    "\n",
    "class Chat:\n",
    "    def __init__(self, system_content='You are a helpful assistant.'):\n",
    "        self.system_content = system_content\n",
    "        self.init_messages()\n",
    "        \n",
    "    def init_messages(self):\n",
    "        self.messages = []\n",
    "        if self.system_content:\n",
    "            self.add_system_content(self.system_content)\n",
    "            \n",
    "    def add_user_content(self, content):\n",
    "        self.messages.append({\"role\": \"user\", \"content\": content})\n",
    "    def add_assistant_content(self, content):\n",
    "        self.messages.append({\"role\": \"assistant\", \"content\": content})\n",
    "    def add_system_content(self, content):\n",
    "        self.messages.append({\"role\": \"system\", \"content\": content})\n",
    "        \n",
    "    def _run_query(self):\n",
    "        max_retries = 7\n",
    "        wait_time = 1\n",
    "\n",
    "        for i in range(max_retries):\n",
    "            try:\n",
    "                self.response = openai.ChatCompletion.create(\n",
    "                    model=\"gpt-3.5-turbo\",\n",
    "                    messages=self.messages,\n",
    "                    temperature=1.0,\n",
    "                    top_p=1.0\n",
    "                )\n",
    "                return\n",
    "            except Exception as e:\n",
    "                if i == max_retries - 1:\n",
    "                    raise\n",
    "                else:\n",
    "                    print(f\"Exception {e}. Retrying in {wait_time} seconds...\")\n",
    "                    time.sleep(wait_time)\n",
    "                    wait_time *= 2\n",
    "\n",
    "        \n",
    "    def query(self, q, print_response=True):\n",
    "        self.add_user_content(q)\n",
    "        self._run_query()\n",
    "        self.add_assistant_content(self.response['choices'][0]['message']['content'])\n",
    "        if print_response:\n",
    "            display(Markdown(self.messages[-1]['content']))\n",
    "            \n",
    "    def print_messages(self):\n",
    "        for d in self.messages:\n",
    "            role = d['role']\n",
    "            content = d['content']\n",
    "            if role == 'assistant':\n",
    "                display(Markdown(content))\n",
    "            else:\n",
    "                color = '#080' if role == 'system' else '#008'\n",
    "                display(HTML(f\"<span style='color: {color}'><b>{role}</b> : {content}</span>\"))\n",
    "    \n"
   ]
  },
  {
   "cell_type": "code",
   "execution_count": null,
   "id": "0dc514b4",
   "metadata": {
    "ExecuteTime": {
     "end_time": "2023-03-02T13:44:49.516621Z",
     "start_time": "2023-03-02T13:44:44.086779Z"
    }
   },
   "outputs": [],
   "source": [
    "chat = Chat()\n",
    "chat.query('write a python exponential backoff code for openai.ChatCompletion.create')"
   ]
  },
  {
   "cell_type": "code",
   "execution_count": null,
   "id": "f6fb7a62",
   "metadata": {
    "ExecuteTime": {
     "end_time": "2023-03-02T13:28:06.504451Z",
     "start_time": "2023-03-02T13:28:04.642949Z"
    },
    "scrolled": true
   },
   "outputs": [],
   "source": [
    "chat.query('write a python method to add 1 to 100')"
   ]
  },
  {
   "cell_type": "code",
   "execution_count": null,
   "id": "64954b01",
   "metadata": {},
   "outputs": [],
   "source": [
    "chat.query('change addition to multiplication')"
   ]
  },
  {
   "cell_type": "code",
   "execution_count": null,
   "id": "41741863",
   "metadata": {
    "ExecuteTime": {
     "end_time": "2023-03-02T13:28:06.534973Z",
     "start_time": "2023-03-02T13:28:06.520809Z"
    }
   },
   "outputs": [],
   "source": [
    "chat.print_messages()"
   ]
  },
  {
   "cell_type": "code",
   "execution_count": null,
   "id": "4504225e",
   "metadata": {
    "ExecuteTime": {
     "end_time": "2023-03-02T12:55:23.277769Z",
     "start_time": "2023-03-02T12:55:22.037209Z"
    }
   },
   "outputs": [],
   "source": []
  },
  {
   "cell_type": "code",
   "execution_count": null,
   "id": "e80b8cd1",
   "metadata": {},
   "outputs": [],
   "source": [
    "!pip install gradio"
   ]
  },
  {
   "cell_type": "code",
   "execution_count": null,
   "id": "d8453816",
   "metadata": {
    "ExecuteTime": {
     "end_time": "2023-03-02T13:33:23.429159Z",
     "start_time": "2023-03-02T13:33:17.093617Z"
    }
   },
   "outputs": [],
   "source": [
    "import gradio as gr\n",
    "\n",
    "chat = Chat()\n",
    "\n",
    "def add_text(state, text):\n",
    "    chat.query(text)\n",
    "    result = chat.messages[-1]['content']\n",
    "    state = state + [(text, result)]\n",
    "    return state, state\n",
    "\n",
    "\n",
    "with gr.Blocks(css=\"#chatbot .overflow-y-auto{height:500px}\") as demo:\n",
    "    chatbot = gr.Chatbot(elem_id=\"chatbot\")\n",
    "    state = gr.State([])\n",
    "\n",
    "    with gr.Row():\n",
    "        txt = gr.Textbox(show_label=False, placeholder=\"Enter text and press enter, or upload an image\").style(container=False)\n",
    "\n",
    "    txt.submit(add_text, [state, txt], [state, chatbot])\n",
    "    txt.submit(lambda :\"\", None, txt)\n",
    "\n",
    "demo.launch(share=True, inline=True)\n"
   ]
  },
  {
   "cell_type": "code",
   "execution_count": null,
   "id": "2555b38c",
   "metadata": {
    "ExecuteTime": {
     "end_time": "2023-03-02T13:33:08.936428Z",
     "start_time": "2023-03-02T13:33:08.709571Z"
    }
   },
   "outputs": [],
   "source": [
    "demo.close()"
   ]
  },
  {
   "cell_type": "code",
   "execution_count": null,
   "id": "b51721af",
   "metadata": {},
   "outputs": [],
   "source": []
  }
 ],
 "metadata": {
  "kernelspec": {
   "display_name": "Python 3 (ipykernel)",
   "language": "python",
   "name": "python3"
  },
  "language_info": {
   "codemirror_mode": {
    "name": "ipython",
    "version": 3
   },
   "file_extension": ".py",
   "mimetype": "text/x-python",
   "name": "python",
   "nbconvert_exporter": "python",
   "pygments_lexer": "ipython3",
   "version": "3.8.5"
  },
  "varInspector": {
   "cols": {
    "lenName": 16,
    "lenType": 16,
    "lenVar": 40
   },
   "kernels_config": {
    "python": {
     "delete_cmd_postfix": "",
     "delete_cmd_prefix": "del ",
     "library": "var_list.py",
     "varRefreshCmd": "print(var_dic_list())"
    },
    "r": {
     "delete_cmd_postfix": ") ",
     "delete_cmd_prefix": "rm(",
     "library": "var_list.r",
     "varRefreshCmd": "cat(var_dic_list()) "
    }
   },
   "types_to_exclude": [
    "module",
    "function",
    "builtin_function_or_method",
    "instance",
    "_Feature"
   ],
   "window_display": false
  }
 },
 "nbformat": 4,
 "nbformat_minor": 5
}
